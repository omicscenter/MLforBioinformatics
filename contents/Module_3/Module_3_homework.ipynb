{
 "cells": [
  {
   "cell_type": "markdown",
   "metadata": {},
   "source": [
    "# Analysis of the Gapminder dataset\n",
    "\n",
    "In this miniproject for your homework, you will be analyzing demographic and economic data on various countries from the gapminder dataset. Please write your code in the provided code blocks and whenever appropriate, write a short answer to the question in the markdown block preceding the code.\n",
    "\n",
    "Not all the functions and code necessary for this homework was explicitly discussed in class, you will have to use your Googling skills to some extent. Make sure to import all the packages you will use. For readability of your code, make sure to include comments so you or anyone else reading this code in the future will know what's going on.\n",
    "\n",
    "Below is a helpful flow chart if you're trying to decide what statistical test to use for some of the problems in this homework assignment:\n",
    "\n",
    "![Here's a flowchart for using appropriate statistical tests.](https://user-images.githubusercontent.com/44813811/113900197-32035d00-9793-11eb-9e34-3908433e7bf0.jpg)\n",
    "\n",
    "## 1. Read in the `gapminder_clean.csv` data as a `pandas` `DataFrame` and inspect it\n",
    "\n",
    "Don't forget to import (and, if necessary, install) any packages you may need!\n",
    "\n"
   ]
  },
  {
   "cell_type": "code",
   "execution_count": null,
   "metadata": {},
   "outputs": [],
   "source": []
  },
  {
   "cell_type": "markdown",
   "metadata": {},
   "source": [
    "## 2. Filter the data to include only rows where `Year` is `1962` and then make a scatter plot comparing `'CO2 emissions (metric tons per capita)'` and `gdpPercap` for the filtered data.\n",
    "\n"
   ]
  },
  {
   "cell_type": "code",
   "execution_count": null,
   "metadata": {},
   "outputs": [],
   "source": []
  },
  {
   "cell_type": "markdown",
   "metadata": {},
   "source": [
    "## 3. On the filtered data, calculate the pearson correlation of `'CO2 emissions (metric tons per capita)'` and `gdpPercap`. What is the Pearson R value and associated p-value?\n",
    "\n",
    "Hint: Use your Googling skills to find an appropriate package and function to calculate the correlation and associated p-value.\n",
    "\n"
   ]
  },
  {
   "cell_type": "code",
   "execution_count": null,
   "metadata": {},
   "outputs": [],
   "source": []
  },
  {
   "cell_type": "markdown",
   "metadata": {},
   "source": [
    "## 4. On the unfiltered data, answer \"In what year is the correlation between `'CO2 emissions (metric tons per capita)'` and `gdpPercap` the strongest?\" Filter the dataset to that year for the next step...\n",
    "\n"
   ]
  },
  {
   "cell_type": "code",
   "execution_count": null,
   "metadata": {},
   "outputs": [],
   "source": []
  },
  {
   "cell_type": "markdown",
   "metadata": {},
   "source": [
    "## 5. Challenge: Using `plotly` or `bokeh`, create an interactive scatter plot comparing `'CO2 emissions (metric tons per capita)'` and gdpPercap, where the point size is determined by `pop` (population) and the color is determined by the `continent`.\n",
    "\n",
    "This question is harder than the others, since we have not discussed `plotly` or `bokeh` in class. Try and see if you can get the hang of it, refer to these guides: \n",
    "- https://www.kaggle.com/kanncaa1/plotly-tutorial-for-beginners\n",
    "- https://plotly.com/python/bubble-charts/#categorical-bubble-charts"
   ]
  },
  {
   "cell_type": "code",
   "execution_count": null,
   "metadata": {},
   "outputs": [],
   "source": []
  },
  {
   "cell_type": "markdown",
   "metadata": {},
   "source": [
    "## 6. What is the relationship between `continent` and `'Energy use (kg of oil equivalent per capita)'` in 2007? (Stats test needed)\n",
    "\n"
   ]
  },
  {
   "cell_type": "code",
   "execution_count": null,
   "metadata": {},
   "outputs": [],
   "source": []
  },
  {
   "cell_type": "markdown",
   "metadata": {},
   "source": [
    "## 7. Is there a significant difference between Europe and Asia with respect to `'Imports of goods and services (% of GDP)'` in the years after 1990? (Stats test needed)\n",
    "\n"
   ]
  },
  {
   "cell_type": "code",
   "execution_count": null,
   "metadata": {},
   "outputs": [],
   "source": []
  },
  {
   "cell_type": "markdown",
   "metadata": {},
   "source": [
    "## 8. What is the country (or countries) that has the highest `'Population density (people per sq. km of land area)'` across all years? (i.e., which country has the highest average ranking in this category across each time point in the dataset?)\n",
    "\n",
    "Hint: First create a new column ranking each country's density within a year, then calculate the average rank for each country across all years in the dataset.\n",
    "\n"
   ]
  },
  {
   "cell_type": "code",
   "execution_count": null,
   "metadata": {},
   "outputs": [],
   "source": []
  },
  {
   "cell_type": "markdown",
   "metadata": {},
   "source": [
    "## 9. What country (or countries) has shown the greatest increase in `'Life expectancy at birth, total (years)'` since 1962?\n",
    "\n"
   ]
  },
  {
   "cell_type": "code",
   "execution_count": null,
   "metadata": {},
   "outputs": [],
   "source": []
  }
 ],
 "metadata": {
  "kernelspec": {
   "display_name": "Python 3",
   "language": "python",
   "name": "python3"
  },
  "language_info": {
   "codemirror_mode": {
    "name": "ipython",
    "version": 3
   },
   "file_extension": ".py",
   "mimetype": "text/x-python",
   "name": "python",
   "nbconvert_exporter": "python",
   "pygments_lexer": "ipython3",
   "version": "3.9.1"
  }
 },
 "nbformat": 4,
 "nbformat_minor": 4
}
