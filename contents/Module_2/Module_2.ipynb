{
 "cells": [
  {
   "cell_type": "markdown",
   "id": "554dc169",
   "metadata": {},
   "source": [
    "# Module \\#2 - Intermediate Python"
   ]
  },
  {
   "cell_type": "markdown",
   "id": "793fba7f",
   "metadata": {},
   "source": [
    "# Lists, continued"
   ]
  },
  {
   "cell_type": "markdown",
   "id": "7ccd6835",
   "metadata": {},
   "source": [
    "Recall that lists are simple to construct using `[]` and can be accessed numerically!"
   ]
  },
  {
   "cell_type": "code",
   "execution_count": null,
   "id": "2094af63",
   "metadata": {},
   "outputs": [],
   "source": [
    "# Construct a list using []\n",
    "my_lst = [\"a\", \"b\", \"c\"]\n",
    "my_lst"
   ]
  },
  {
   "cell_type": "code",
   "execution_count": null,
   "id": "3024d4b5",
   "metadata": {},
   "outputs": [],
   "source": [
    "# Access the first element of a list using the index 0\n",
    "my_lst[0]"
   ]
  },
  {
   "cell_type": "markdown",
   "id": "f4e7a8cd",
   "metadata": {},
   "source": [
    "Recall also that you can use slice notation (`start:stop:step`) which allows you to access a range of elements by an interval. "
   ]
  },
  {
   "cell_type": "code",
   "execution_count": null,
   "id": "805d7c6b",
   "metadata": {},
   "outputs": [],
   "source": [
    "# Construct a mixed-type list\n",
    "my_lst = [\"a\", \"b\", \"c\", 1, 2, 3, True, False]\n",
    "my_lst"
   ]
  },
  {
   "cell_type": "code",
   "execution_count": null,
   "id": "ef2ddae4",
   "metadata": {},
   "outputs": [],
   "source": [
    "# Access the 2nd - 5th elements\n",
    "my_lst[1:4]  # Remember that the slice is NOT inclusive"
   ]
  },
  {
   "cell_type": "code",
   "execution_count": null,
   "id": "e55dd104",
   "metadata": {},
   "outputs": [],
   "source": [
    "# Access the 3rd element through the end in intervals of 2\n",
    "my_lst[2::2]"
   ]
  },
  {
   "cell_type": "code",
   "execution_count": null,
   "id": "14977537",
   "metadata": {},
   "outputs": [],
   "source": [
    "# Reverse the order of the list\n",
    "my_lst[::-1]"
   ]
  },
  {
   "cell_type": "code",
   "execution_count": null,
   "id": "e6d4a324",
   "metadata": {},
   "outputs": [],
   "source": [
    "# Get the length of a list with len()\n",
    "len(my_lst)"
   ]
  },
  {
   "cell_type": "markdown",
   "id": "4ea41b98",
   "metadata": {},
   "source": [
    "## in\n",
    "Sometimes, you want to test whether a value exists within a list. To do this, we use the `in` operator. "
   ]
  },
  {
   "cell_type": "code",
   "execution_count": null,
   "id": "994a9b9b",
   "metadata": {},
   "outputs": [],
   "source": [
    "my_lst = [\"Hello world!\", 200, int(\"1\"), [True, False, [1, 0, bool(0)]], 2**4, \"This is a list!\", 2+2j]\n",
    "my_lst"
   ]
  },
  {
   "cell_type": "code",
   "execution_count": null,
   "id": "45e844dc",
   "metadata": {},
   "outputs": [],
   "source": [
    "# 200 is inside of my_lst?\n",
    "200 in my_lst"
   ]
  },
  {
   "cell_type": "code",
   "execution_count": null,
   "id": "c46a36d3",
   "metadata": {},
   "outputs": [],
   "source": [
    "# \"Hello list!\" is inside of my_lst\n",
    "\"Hello list!\" in my_lst"
   ]
  },
  {
   "cell_type": "markdown",
   "id": "ad323a64",
   "metadata": {},
   "source": [
    "**Challenge problem:** What would the following produce? (Without running it)\n",
    "\n",
    "```python\n",
    "22 % 7 in my_lst\n",
    "```"
   ]
  },
  {
   "cell_type": "markdown",
   "id": "43a7c374",
   "metadata": {},
   "source": [
    "### Range\n",
    "\n",
    "Range allows you to easily construct a list-like object containing all the values between two numbers. \n",
    "\n",
    "They follow the pattern `range( start, stop, step )`."
   ]
  },
  {
   "cell_type": "code",
   "execution_count": null,
   "id": "10ea98a6",
   "metadata": {},
   "outputs": [],
   "source": [
    "range(0, 100)"
   ]
  },
  {
   "cell_type": "code",
   "execution_count": null,
   "id": "ee2759a6",
   "metadata": {},
   "outputs": [],
   "source": [
    "range(10, 20, 3)"
   ]
  },
  {
   "cell_type": "code",
   "execution_count": null,
   "id": "a291c12a",
   "metadata": {},
   "outputs": [],
   "source": [
    "20 in range(0, 100)"
   ]
  },
  {
   "cell_type": "markdown",
   "id": "cd7a8522",
   "metadata": {},
   "source": [
    "Ranges can be easily converted to a `list`. **Note** they are not inclusive of the 'end' value in the range. "
   ]
  },
  {
   "cell_type": "code",
   "execution_count": null,
   "id": "60d24bd6",
   "metadata": {},
   "outputs": [],
   "source": [
    "list(range(0, 10, 1))"
   ]
  },
  {
   "cell_type": "code",
   "execution_count": null,
   "id": "2d707dd4",
   "metadata": {},
   "outputs": [],
   "source": [
    "list(range(20, 30, 2))"
   ]
  },
  {
   "cell_type": "code",
   "execution_count": null,
   "id": "f1f85fac",
   "metadata": {},
   "outputs": [],
   "source": [
    "list(range(10))"
   ]
  },
  {
   "cell_type": "markdown",
   "id": "da3a86ab",
   "metadata": {},
   "source": [
    "### String - List Conversion\n",
    "\n",
    "In python, strings are actually similar to a list of letters. You can access individual values using list access notation:"
   ]
  },
  {
   "cell_type": "code",
   "execution_count": null,
   "id": "347c3c22",
   "metadata": {},
   "outputs": [],
   "source": [
    "my_str = \"Hello world!\"\n",
    "my_str[4]"
   ]
  },
  {
   "cell_type": "code",
   "execution_count": null,
   "id": "373a0a15",
   "metadata": {},
   "outputs": [],
   "source": [
    "my_str[3::2]"
   ]
  },
  {
   "cell_type": "markdown",
   "id": "ff3d906b",
   "metadata": {},
   "source": [
    "Additionally, strings containing a *separator* can be broken up into a list of strings using `.split()`. This is useful, for example, when trying to parse the text of a document."
   ]
  },
  {
   "cell_type": "code",
   "execution_count": null,
   "id": "cc63d704",
   "metadata": {},
   "outputs": [],
   "source": [
    "sentence = \"It was a dark and stormy night.\"\n",
    "sentence.split(sep=\" \")"
   ]
  },
  {
   "cell_type": "markdown",
   "id": "9ca9d093",
   "metadata": {},
   "source": [
    "You can also rejoin a list into a string using `.join()`. \n",
    "\n",
    "Notice that `.join()` is a method belonging to objects of the `str` class. "
   ]
  },
  {
   "cell_type": "code",
   "execution_count": null,
   "id": "0a6b935b",
   "metadata": {},
   "outputs": [],
   "source": [
    "words = ['It', 'was', 'a', 'dark', 'and', 'stormy', 'night.']\n",
    "\" \".join(words)"
   ]
  },
  {
   "cell_type": "markdown",
   "id": "00e3c94b",
   "metadata": {},
   "source": [
    "Any arbitrary `str` can use the `.join()` method!"
   ]
  },
  {
   "cell_type": "markdown",
   "id": "9817eb03",
   "metadata": {},
   "source": [
    "**Challenge problem:** What would the following produce? (Without running it)\n",
    "\n",
    "```python\n",
    "22 % 7 in my_lst\n",
    "```"
   ]
  },
  {
   "cell_type": "code",
   "execution_count": null,
   "id": "7a6d1af0",
   "metadata": {},
   "outputs": [],
   "source": [
    "\"(-_-)\".join(words)"
   ]
  },
  {
   "cell_type": "markdown",
   "id": "fefe2800",
   "metadata": {},
   "source": [
    "<hr>\n",
    "\n",
    "# Other programming concepts in Python\n",
    "\n",
    "We will also briefly discuss control flow and functions in python. While these are useful techniques for python programming, they are not necessary for most typical data science activities in python. These are the topics which we will now summarize:\n",
    "\n",
    "1. If...elif...else\n",
    "2. Loops\n",
    "3. Function definitions"
   ]
  },
  {
   "cell_type": "markdown",
   "id": "c16ff4b6",
   "metadata": {},
   "source": [
    "## If...elif...else\n",
    "\n",
    "These statements indicate code blocks that will only be executed given that a logical condition is met."
   ]
  },
  {
   "cell_type": "markdown",
   "id": "11944b52",
   "metadata": {},
   "source": [
    "### If statements\n",
    "\n",
    "`if` statements in python create a logic gate, such that some code will only execute if a logical condition is met. See an example here:"
   ]
  },
  {
   "cell_type": "code",
   "execution_count": null,
   "id": "f97306f4",
   "metadata": {},
   "outputs": [],
   "source": [
    "a = 1\n",
    "b = 1\n",
    "\n",
    "if a == b:\n",
    "    # Execute this code only if a == b is True\n",
    "    print(\"a is equal to b!\")"
   ]
  },
  {
   "cell_type": "markdown",
   "id": "3c8d3e1b",
   "metadata": {},
   "source": [
    "The above example shows an `if` statement. The code in this statement only executes which the condition (`a == b`) is `True`. **Challenge:** Can you modify the above block so that the code will not execute?"
   ]
  },
  {
   "cell_type": "markdown",
   "id": "5a9b82dc",
   "metadata": {},
   "source": []
  },
  {
   "cell_type": "markdown",
   "id": "728638aa",
   "metadata": {},
   "source": [
    "### If...else statements\n",
    "\n",
    "`else` statements are executed if no previous conditions are satisfied. In other words, if not of the `if` statements execute, only then will the `else` statement execute."
   ]
  },
  {
   "cell_type": "code",
   "execution_count": null,
   "id": "90cb0174",
   "metadata": {},
   "outputs": [],
   "source": [
    "a = 1\n",
    "b = 2\n",
    "\n",
    "if a == b:\n",
    "    print(\"a is equal to b!\")\n",
    "else:\n",
    "    print(\"a is NOT equal to b!\")"
   ]
  },
  {
   "cell_type": "markdown",
   "id": "99784507",
   "metadata": {},
   "source": [
    "**Challenge question:** What will the following print? (Without running it yourself)\n",
    "\n",
    "```python\n",
    "a = [1, 2, 3]\n",
    "cond = a[1] == 2\n",
    "if cond:\n",
    "    print(\"Yes\")\n",
    "else:\n",
    "    print(\"No\")\n",
    "```"
   ]
  },
  {
   "cell_type": "code",
   "execution_count": null,
   "id": "ffd04b4b",
   "metadata": {},
   "outputs": [],
   "source": [
    "a = [1, 2, 3]\n",
    "cond = a[1] == 2\n",
    "if cond:\n",
    "    print(\"Yes\")\n",
    "else:\n",
    "    print(\"No\")"
   ]
  },
  {
   "cell_type": "markdown",
   "id": "85c5983d",
   "metadata": {},
   "source": [
    "### If...elif...else statements\n",
    "\n",
    "`elif` is a phrase that means \"else if\". This means that if the preceeding logical conditions are not satisfied, only then is this statement tested. "
   ]
  },
  {
   "cell_type": "code",
   "execution_count": null,
   "id": "83401bda",
   "metadata": {},
   "outputs": [],
   "source": [
    "grade = 78\n",
    "\n",
    "if grade > 90:\n",
    "    # Only executes if grade > 90\n",
    "    letter_grade = \"A\"\n",
    "elif grade > 80:\n",
    "    # Only executes if grade > 80 and grade <= 90\n",
    "    letter_grade = \"B\"\n",
    "elif grade > 70:\n",
    "    # Only executes if grade > 70 and grade <= 80\n",
    "    letter_grade = \"C\"\n",
    "elif grade >= 60:\n",
    "    # Only executes if grade > 60 and grade <= 70\n",
    "    letter_grade = \"D\"\n",
    "else:\n",
    "    # Only executes if grade < 60\n",
    "    letter_grade = \"F\"\n",
    "    \n",
    "print(\"Student earned a grade of \" + letter_grade)"
   ]
  },
  {
   "cell_type": "markdown",
   "id": "e13cadfd",
   "metadata": {},
   "source": [
    "In the above example, each logical condition is tested in sequence. Only when a condition is not met is the next one tested. If a student has a grade of `68`, then every `elif` statement will be tested. If the student had a `96`, then no `elif` statements would have been tested."
   ]
  },
  {
   "cell_type": "markdown",
   "id": "3834f0a4",
   "metadata": {},
   "source": [
    "**Challenge question:** What will the following print? (Without running it yourself)\n",
    "\n",
    "```python\n",
    "\n",
    "trees = ['pine', 'spruce', 'fir', 'oak', 'cherry']\n",
    "\n",
    "if 'pi' + ' ne' in trees:\n",
    "    print(\"Pine Trees!\")\n",
    "elif \",\".join(['fir', 'oak']) == \"fir, oak\":\n",
    "    print(\"Fir Trees!\")\n",
    "elif \"\".join(['ry', 'cher'][::-1]) in trees:\n",
    "    print(\"Cherry Trees!\")\n",
    "else:\n",
    "    print(\"No trees!\")\n",
    "             \n",
    "```"
   ]
  },
  {
   "cell_type": "code",
   "execution_count": null,
   "id": "52839744",
   "metadata": {},
   "outputs": [],
   "source": [
    "trees = ['pine', 'spruce', 'fir', 'oak', 'cherry']\n",
    "\n",
    "if 'pi' + ' ne' in trees:\n",
    "    print(\"Pine Trees!\")\n",
    "elif \",\".join(['fir', 'oak']) == \"fir, oak\":\n",
    "    print(\"Fir Trees!\")\n",
    "elif \"\".join(['ry', 'cher'][::-1]) in trees:\n",
    "    print(\"Cherry Trees!\")\n",
    "else:\n",
    "    print(\"No trees!\")"
   ]
  },
  {
   "cell_type": "code",
   "execution_count": null,
   "id": "33ab618d",
   "metadata": {},
   "outputs": [],
   "source": [
    "\",\".join(['fir', 'oak'])"
   ]
  },
  {
   "cell_type": "markdown",
   "id": "84d99504",
   "metadata": {},
   "source": [
    "## Loops\n",
    "\n",
    "Loops allow for python code to be applied to every element of an iterable object, such as a list."
   ]
  },
  {
   "cell_type": "markdown",
   "id": "26c54846",
   "metadata": {},
   "source": [
    "### For loops\n",
    "\n",
    "For loops are a type of finite loop in python (as opposed to `while` loops which we will not discuss here). A for loop iterates over an iterable object, such as a `list` or `tuple`. For every element of the object, code will be executed in succession. Here is an example:"
   ]
  },
  {
   "cell_type": "code",
   "execution_count": null,
   "id": "b23168b5",
   "metadata": {},
   "outputs": [],
   "source": [
    "# Loop through a list of 1 through 10\n",
    "numbers = [1, 2, 3, 4, 5, 6, 7, 8, 9, 10]\n",
    "\n",
    "for number in numbers:\n",
    "    print(number)"
   ]
  },
  {
   "cell_type": "markdown",
   "id": "5ae67c7f",
   "metadata": {},
   "source": [
    "As the loop iterates, it assigns each element of `numbers` to the variable `number` and then runs the code within the loop. For example, we can add 10 to `number`:"
   ]
  },
  {
   "cell_type": "code",
   "execution_count": null,
   "id": "87eccfe5",
   "metadata": {},
   "outputs": [],
   "source": [
    "for number in numbers:\n",
    "    print(number + 10)"
   ]
  },
  {
   "cell_type": "markdown",
   "id": "3276cffc",
   "metadata": {},
   "source": [
    "Loops can be a relatively convenient way to add numbers to a list using the `.append()` method. For example:"
   ]
  },
  {
   "cell_type": "code",
   "execution_count": null,
   "id": "851b8e43",
   "metadata": {},
   "outputs": [],
   "source": [
    "new_numbers = list()\n",
    "for number in numbers:\n",
    "    new_numbers.append(number + 10)\n",
    "    \n",
    "new_numbers"
   ]
  },
  {
   "cell_type": "markdown",
   "id": "fd9c36d0",
   "metadata": {},
   "source": [
    "### Combining loops and if / else"
   ]
  },
  {
   "cell_type": "code",
   "execution_count": null,
   "id": "24cba88e",
   "metadata": {},
   "outputs": [],
   "source": [
    "# Combining loops and if...else\n",
    "grades = [85, 98, 45, 73]\n",
    "\n",
    "# Loop over list of grades and print letter grade\n",
    "for grade in grades:\n",
    "    if grade > 90:\n",
    "        # Only executes if grade > 90\n",
    "        letter_grade = \"A\"\n",
    "    elif grade > 80:\n",
    "        # Only executes if grade > 80 and grade <= 90\n",
    "        letter_grade = \"B\"\n",
    "    elif grade > 70:\n",
    "        # Only executes if grade > 70 and grade <= 80\n",
    "        letter_grade = \"C\"\n",
    "    elif grade >= 60:\n",
    "        # Only executes if grade > 60 and grade <= 70\n",
    "        letter_grade = \"D\"\n",
    "    else:\n",
    "        # Only executes if grade < 60\n",
    "        letter_grade = \"F\"\n",
    "\n",
    "    print(\"Student earned a grade of \" + letter_grade)\n"
   ]
  },
  {
   "cell_type": "markdown",
   "id": "5c3eb2b6",
   "metadata": {},
   "source": [
    "**Challenge problem:** What does the following produce? (Without running it)\n",
    "\n",
    "```python\n",
    "\n",
    "fruits = ['apple', 'banana', 'pear', 'kiwi', 'orange', 'tomato', 'starfuit', 'grape']\n",
    "new_fruits = []\n",
    "for fruit in fruits:\n",
    "    if \"i\" in fruit:\n",
    "        new_fruits.append(fruit)\n",
    "    elif \"g\" in fruit:\n",
    "        if \"p\" in fruit:\n",
    "            new_fruits.append(fruit)\n",
    "            \n",
    "print(new_fruits)\n",
    "\n",
    "```"
   ]
  },
  {
   "cell_type": "markdown",
   "id": "f0972b0a",
   "metadata": {},
   "source": [
    "### Integer indices instead of direct for loops"
   ]
  },
  {
   "cell_type": "markdown",
   "id": "f73be27b",
   "metadata": {},
   "source": [
    "Rather than using the list of grades directly, it may be useful to use the numerical indices of list elements. For example:"
   ]
  },
  {
   "cell_type": "code",
   "execution_count": null,
   "id": "2b688e71",
   "metadata": {},
   "outputs": [],
   "source": [
    "# Loop through a list of letters\n",
    "letters = [\"a\", \"b\", \"c\", \"d\"]\n",
    "\n",
    "for letter in letters:\n",
    "    print(letter)"
   ]
  },
  {
   "cell_type": "code",
   "execution_count": null,
   "id": "447d0500",
   "metadata": {},
   "outputs": [],
   "source": [
    "range(len(letters))"
   ]
  },
  {
   "cell_type": "code",
   "execution_count": null,
   "id": "f3fe69ca",
   "metadata": {},
   "outputs": [],
   "source": [
    "for i in range(len(letters)):\n",
    "    letter = letters[i]\n",
    "    print(letter)"
   ]
  },
  {
   "cell_type": "markdown",
   "id": "17860e15",
   "metadata": {},
   "source": [
    "While this may seem more complicated, there are many situations in which this is necessary! For example:"
   ]
  },
  {
   "cell_type": "code",
   "execution_count": null,
   "id": "122cc5c5",
   "metadata": {},
   "outputs": [],
   "source": [
    "students = ['alice', 'kevin', 'sara', 'tim']\n",
    "grades = [85, 98, 45, 73]\n",
    "\n",
    "for i in range(len(grades)):\n",
    "    \n",
    "    grade = grades[i]\n",
    "    student = students[i]\n",
    "    \n",
    "    if grade > 90:\n",
    "        # Only executes if grade > 90\n",
    "        letter_grade = \"A\"\n",
    "    elif grade > 80:\n",
    "        # Only executes if grade > 80 and grade <= 90\n",
    "        letter_grade = \"B\"\n",
    "    elif grade > 70:\n",
    "        # Only executes if grade > 70 and grade <= 80\n",
    "        letter_grade = \"C\"\n",
    "    elif grade >= 60:\n",
    "        # Only executes if grade > 60 and grade <= 70\n",
    "        letter_grade = \"D\"\n",
    "    else:\n",
    "        # Only executes if grade < 60\n",
    "        letter_grade = \"F\"\n",
    "\n",
    "    print(student + \" earned a grade of \" + letter_grade)\n"
   ]
  },
  {
   "cell_type": "markdown",
   "id": "27df6bad",
   "metadata": {},
   "source": [
    "### List comprehension"
   ]
  },
  {
   "cell_type": "markdown",
   "id": "61c8e179",
   "metadata": {},
   "source": [
    "Typically, for loops are a terrible coding pattern in `Python`. There's almost always a much better/faster alternative to using one. However, they do have one area of utility in data science: **list comprehensions**. \n",
    "\n",
    "**List comprehension** is a *pythonic* coding pattern used for performing an action on a list. It is faster than a typical for-loop and reduces the number of lines needed to use one. \n",
    "\n",
    "It usually takes the following form:\n",
    "\n",
    "```python\n",
    "[ modify_value(value) for value in values ]\n",
    "```\n",
    "This will take every element of `values` and modify it using `modify_value()` function, returning a list of modified values of the same order and length as `values`.\n",
    "\n",
    "For example we can simply return the `number` for every `number` in `range(1, 11)` like so:"
   ]
  },
  {
   "cell_type": "code",
   "execution_count": null,
   "id": "164d91d6",
   "metadata": {},
   "outputs": [],
   "source": [
    "# NOTE: You can also use list comprehension to achieve this\n",
    "[number for number in range(1, 11)]  # Print doesn't actually return a value"
   ]
  },
  {
   "cell_type": "markdown",
   "id": "ab5f0e59",
   "metadata": {},
   "source": [
    "We could also modify these numbers:"
   ]
  },
  {
   "cell_type": "code",
   "execution_count": null,
   "id": "31b82f1d",
   "metadata": {},
   "outputs": [],
   "source": [
    "[number + 10 for number in numbers]  # Returns a value"
   ]
  },
  {
   "cell_type": "markdown",
   "id": "16a06615",
   "metadata": {},
   "source": [
    "**Challenge question:** Write a list comprehension which converts each element of `fruits` uppercase.\n",
    "\n",
    "```python\n",
    "fruits = ['apple', 'banana', 'pear', 'kiwi', 'orange', 'tomato', 'starfuit', 'grape']\n",
    "\n",
    "# List comprehension goes here...\n",
    "\n",
    "```\n"
   ]
  },
  {
   "cell_type": "markdown",
   "id": "e2ed5416",
   "metadata": {},
   "source": [
    "We can even add conditionals! Such as if...else statements:"
   ]
  },
  {
   "cell_type": "code",
   "execution_count": null,
   "id": "f0755def",
   "metadata": {},
   "outputs": [],
   "source": [
    "[-number if number % 2 == 0 else number for number in numbers]  # Returns a value"
   ]
  },
  {
   "cell_type": "markdown",
   "id": "e8473b0f",
   "metadata": {},
   "source": [
    "**Challenge question:** Write a list comprehension which converts each element of `fruits` uppercase only if it contains the letter \"e\".\n",
    "\n",
    "```python\n",
    "fruits = ['apple', 'banana', 'pear', 'kiwi', 'orange', 'tomato', 'starfuit', 'grape']\n",
    "\n",
    "# List comprehension goes here...\n",
    "\n",
    "```\n"
   ]
  },
  {
   "cell_type": "markdown",
   "id": "af690417",
   "metadata": {},
   "source": [
    "## Functions\n",
    "\n",
    "Functions are objects in python which take an input, perform computations, and return an output. Functions have arguments that help the function operate correctly. For example, we can define a function, `square_it()` which finds the square of any number:"
   ]
  },
  {
   "cell_type": "code",
   "execution_count": null,
   "id": "fbc75efb",
   "metadata": {},
   "outputs": [],
   "source": [
    "def square_it(x):\n",
    "    print(x ** 2)\n",
    "    \n",
    "type(square_it)"
   ]
  },
  {
   "cell_type": "code",
   "execution_count": null,
   "id": "d8c9f68c",
   "metadata": {},
   "outputs": [],
   "source": [
    "square_it(5)  # Gets 5 ** 2"
   ]
  },
  {
   "cell_type": "markdown",
   "id": "19cecde4",
   "metadata": {},
   "source": [
    "Functions do not have to return a value. Because `square_it()` only prints an object, it doesn't return anything. Any variable that references the output of `square_it()` will be a `None`, which means \"doesn't exist\". "
   ]
  },
  {
   "cell_type": "code",
   "execution_count": null,
   "id": "ea41c9fb",
   "metadata": {},
   "outputs": [],
   "source": [
    "result = square_it(5)"
   ]
  },
  {
   "cell_type": "code",
   "execution_count": null,
   "id": "1efd53c3",
   "metadata": {},
   "outputs": [],
   "source": [
    "print(result)"
   ]
  },
  {
   "cell_type": "markdown",
   "id": "eff9af79",
   "metadata": {},
   "source": [
    "Interestingly, `None` is actually a type of object in Python. This allows you to easily reference them, which can make solving certain coding problems easier. "
   ]
  },
  {
   "cell_type": "code",
   "execution_count": null,
   "id": "cac0aca0",
   "metadata": {},
   "outputs": [],
   "source": [
    "type(result)  # NoneType objects"
   ]
  },
  {
   "cell_type": "markdown",
   "id": "2dfc1773",
   "metadata": {},
   "source": [
    "Functions can also return a value with the `return` statement. This is more common in python programming than simply printing the value:"
   ]
  },
  {
   "cell_type": "code",
   "execution_count": null,
   "id": "ae02142e",
   "metadata": {},
   "outputs": [],
   "source": [
    "def square_it(x):\n",
    "    return x ** 2  # Return a value\n",
    "    \n",
    "result = square_it(5)"
   ]
  },
  {
   "cell_type": "code",
   "execution_count": null,
   "id": "3c58689f",
   "metadata": {},
   "outputs": [],
   "source": [
    "print(result)"
   ]
  },
  {
   "cell_type": "markdown",
   "id": "e117cc2b",
   "metadata": {},
   "source": [
    "**Challenge problem:** create a function with one argument, `grade` (is an `int`). The argument should convert `grade` to a letter grade and return this to the user."
   ]
  },
  {
   "cell_type": "markdown",
   "id": "c3a9dcaf",
   "metadata": {},
   "source": [
    "**Challenge problem 2**: Using list comprehension, convert every element of `grades` with the function from the previous problem. \n",
    "\n",
    "Here is `grades`:\n",
    "\n",
    "```python\n",
    "grades = [85, 98, 45, 73, 35, 62, 67, 72, 92, 38, 88]\n",
    "```"
   ]
  },
  {
   "cell_type": "markdown",
   "id": "d4d83d72",
   "metadata": {},
   "source": [
    "<hr>\n",
    "\n",
    "# Complex objects in python, Continued\n",
    "\n",
    "Let's continue on with our discussion of complex objects in Python!\n",
    "\n",
    "Object types:\n",
    "1. ~~Lists~~\n",
    "2. Dictionaries\n",
    "3. Tuples\n",
    "4. Sets\n",
    "5. *Modules/Packages*\n",
    "6. Numpy arrays\n",
    "7. Pandas DataFrames"
   ]
  },
  {
   "cell_type": "markdown",
   "id": "60502a15",
   "metadata": {},
   "source": [
    "## Dictionaries\n",
    "\n",
    "Dictionaries are the core data type of the python language. Unlike lists, dictionaries are **unordered** and accessed using keys rather than using numerical indices. This workshop will not describe dictionaries in detail, but you can refer to the W3 schools guide [here](https://www.w3schools.com/python/python_dictionaries.asp) for more info. "
   ]
  },
  {
   "cell_type": "code",
   "execution_count": null,
   "id": "ef5675d8",
   "metadata": {},
   "outputs": [],
   "source": [
    "# Create a dict using key-value pairs between {}\n",
    "my_dict = {\n",
    "    'hello': 1\n",
    "}\n",
    "my_dict"
   ]
  },
  {
   "cell_type": "code",
   "execution_count": null,
   "id": "af09d5c1",
   "metadata": {},
   "outputs": [],
   "source": [
    "# Access the value in a dict using keys\n",
    "my_dict['hello']"
   ]
  },
  {
   "cell_type": "code",
   "execution_count": null,
   "id": "9318faa0",
   "metadata": {},
   "outputs": [],
   "source": [
    "# Dictionaries can have numerical, string, and boolean keys. They can hold any number of arbitrary object types.\n",
    "my_dict = {\n",
    "    'hello': 1,\n",
    "    'world': True,\n",
    "    123: [1, 2, [\"Hello world\"]],\n",
    "    True: {\n",
    "        \"New\": True\n",
    "    }\n",
    "}\n",
    "my_dict"
   ]
  },
  {
   "cell_type": "code",
   "execution_count": null,
   "id": "75b22e97",
   "metadata": {},
   "outputs": [],
   "source": [
    "my_dict[True]"
   ]
  },
  {
   "cell_type": "markdown",
   "id": "09d90bd3",
   "metadata": {},
   "source": [
    "## Sets and Tuples\n",
    "\n",
    "Sets and tuples are also used in python. Discussing them is outside the scope of this workshop. For more information please refer to the following:\n",
    "\n",
    "1. Sets - [here](https://www.w3schools.com/python/python_sets.asp)\n",
    "2. Tuples - [here]()"
   ]
  },
  {
   "cell_type": "markdown",
   "id": "887ea1c1",
   "metadata": {},
   "source": [
    "## Modules and Packages"
   ]
  },
  {
   "cell_type": "markdown",
   "id": "e202707b",
   "metadata": {},
   "source": [
    "### Modules\n",
    "\n",
    "Modules are python script files (`*.py`) which are imported into python. Typically, they contain functions and/or classes which are useful for your code. We can import modules like so:"
   ]
  },
  {
   "cell_type": "code",
   "execution_count": null,
   "id": "4dd00268",
   "metadata": {},
   "outputs": [],
   "source": [
    "import builtins"
   ]
  },
  {
   "cell_type": "markdown",
   "id": "551911ef",
   "metadata": {},
   "source": [
    "`builtins` is a generic python module which contains many core functions such as `print()`. If we check the `type()` of `builtins`, we see that it is a `module` object:"
   ]
  },
  {
   "cell_type": "code",
   "execution_count": null,
   "id": "445c256c",
   "metadata": {},
   "outputs": [],
   "source": [
    "type(builtins)"
   ]
  },
  {
   "cell_type": "markdown",
   "id": "2fe6f7a0",
   "metadata": {},
   "source": [
    "If we import `builtins` as a module, we can then use the functions within that module, like so:"
   ]
  },
  {
   "cell_type": "code",
   "execution_count": null,
   "id": "8a892ced",
   "metadata": {},
   "outputs": [],
   "source": [
    "builtins.print(\"Hello world!\")"
   ]
  },
  {
   "cell_type": "markdown",
   "id": "86580d40",
   "metadata": {},
   "source": [
    "It might get inconvenient to keep typing `builtins` every time we want to use the `builtins.print()` function. Instead, we can import `builtins` using a variable which is easier to type:"
   ]
  },
  {
   "cell_type": "code",
   "execution_count": null,
   "id": "acd16937",
   "metadata": {},
   "outputs": [],
   "source": [
    "import builtins as btns\n",
    "\n",
    "btns.print(\"Hello world!\")"
   ]
  },
  {
   "cell_type": "markdown",
   "id": "5f173519",
   "metadata": {},
   "source": [
    "Sometimes we only want to use a small number of functions from a module. So, instead of importing the whole module, we might instead just import those functions directly using `from ... import ...`:"
   ]
  },
  {
   "cell_type": "code",
   "execution_count": null,
   "id": "64b76348",
   "metadata": {},
   "outputs": [],
   "source": [
    "from builtins import print\n",
    "\n",
    "print(\"Hello world!\")"
   ]
  },
  {
   "cell_type": "markdown",
   "id": "66910cd4",
   "metadata": {},
   "source": [
    "Finally, we can even make a variable for a function:"
   ]
  },
  {
   "cell_type": "code",
   "execution_count": null,
   "id": "6db78058",
   "metadata": {},
   "outputs": [],
   "source": [
    "from builtins import print as pnt\n",
    "\n",
    "pnt(\"Hello world!\")"
   ]
  },
  {
   "cell_type": "markdown",
   "id": "ac60e6dc",
   "metadata": {},
   "source": [
    "### Packages and CLI usage in Jupyter\n",
    "\n",
    "Packages are collections of modules typically based on a shared purpose. They are typically installed using a package manager such as `pip` from the command line, like so:\n",
    "\n",
    "```shell\n",
    "pip install <name_of_package>\n",
    "```\n",
    "\n",
    "However, we are in a notebook and not on the command line! How do we install packages? Fortunately, Jupyter Notebook allows us to write any arbitrary command-line commands using the `!` symbol at the beginning of a block. For example, on the CLI, you can write \"Hello world!\":"
   ]
  },
  {
   "cell_type": "code",
   "execution_count": null,
   "id": "5d96236b",
   "metadata": {},
   "outputs": [],
   "source": [
    "!echo \"Hello world!\""
   ]
  },
  {
   "cell_type": "markdown",
   "id": "8e2a9b0e",
   "metadata": {},
   "source": [
    "This is equivalent to opening command prompt (windows) or terminal (macOS) and typing:\n",
    "\n",
    "```shell\n",
    "echo \"Hello world!\"\n",
    "```\n",
    "\n",
    "This capability is also very useful when you need to install python packages using `pip`, which is typically done from the command line. Instead, we can install packages from within Jupyter like so:"
   ]
  },
  {
   "cell_type": "code",
   "execution_count": null,
   "id": "d397c23f",
   "metadata": {},
   "outputs": [],
   "source": [
    "!pip install numpy"
   ]
  },
  {
   "cell_type": "markdown",
   "id": "9c54a7a9",
   "metadata": {},
   "source": [
    "As you can see, I already have `numpy` installed. Otherwise, it would have installed it for me. "
   ]
  },
  {
   "cell_type": "markdown",
   "id": "6c51c6e3",
   "metadata": {},
   "source": [
    "## Numpy arrays\n",
    "\n",
    "`numpy` is a python package that provides complex data types for performing mathematical operations. In particular, numpy provides the `array` data type which is similar to the `matrix` in R. \n",
    "\n",
    "Before arrays can be constructed it is necessary to install the numpy library in Python (if you don't already have it) and load it into Python:"
   ]
  },
  {
   "cell_type": "code",
   "execution_count": null,
   "id": "30cc9861",
   "metadata": {},
   "outputs": [],
   "source": [
    "import numpy as np"
   ]
  },
  {
   "cell_type": "code",
   "execution_count": null,
   "id": "04249eff",
   "metadata": {},
   "outputs": [],
   "source": [
    "type(np)"
   ]
  },
  {
   "cell_type": "markdown",
   "id": "d4baa02e",
   "metadata": {},
   "source": [
    "Just like other objects, they have properties and methods. We typically load modules into python because we want to use the methods they contain. As a reminder, you can access an object's methods using the `<object>.<method>()` notation. For the `numpy` module, the method we are most interested is the `array()` method -- this is what we can use to construct an `array` object.\n",
    "\n",
    "Arrays are similar to lists, except that they are specifically design for holding only one type of data, typically numerical data. "
   ]
  },
  {
   "cell_type": "code",
   "execution_count": null,
   "id": "3f992f4b",
   "metadata": {},
   "outputs": [],
   "source": [
    "# Create a 1-dimensional (1d) array holding the values 1, 2, and 3\n",
    "np.array([1, 2, 3])"
   ]
  },
  {
   "cell_type": "markdown",
   "id": "9990e327",
   "metadata": {},
   "source": [
    "We can create 2-dimensional arrays by adding lists of lists:"
   ]
  },
  {
   "cell_type": "code",
   "execution_count": null,
   "id": "8a42af0b",
   "metadata": {},
   "outputs": [],
   "source": [
    "# Construct a 2d array\n",
    "numpy.array([\n",
    "    [1, 2, 3],\n",
    "    [4, 5, 6]\n",
    "])"
   ]
  },
  {
   "cell_type": "markdown",
   "id": "e2a3fff4",
   "metadata": {},
   "source": [
    "We can even create a 3-dimension array (and beyond) using lists of lists of lists (etc). "
   ]
  },
  {
   "cell_type": "code",
   "execution_count": null,
   "id": "617d4702",
   "metadata": {},
   "outputs": [],
   "source": [
    "# Construct a 3d array\n",
    "numpy.array([\n",
    "    [\n",
    "        [1, 2, 3],\n",
    "        [4, 5, 6]\n",
    "    ],\n",
    "    [\n",
    "        [7, 8, 9],\n",
    "        [10, 11, 12]\n",
    "    ]\n",
    "])"
   ]
  },
  {
   "cell_type": "markdown",
   "id": "f0cc2850",
   "metadata": {},
   "source": [
    "### Numpy array methods\n",
    "\n",
    "Many methods are available for `array` objects. An exhaustive reference is available [here](https://numpy.org/doc/stable/reference/index.html). For now, we will discuss a few key methods:\n",
    "\n",
    "1. Creation\n",
    "2. Shape and dimensions\n",
    "3. Accessing elements\n",
    "4. Setting elements\n",
    "5. any / all \n",
    "6. Mathematical operations"
   ]
  },
  {
   "cell_type": "markdown",
   "id": "4130dd53",
   "metadata": {},
   "source": [
    "#### Creation\n",
    "\n",
    "Numpy arrays are created in multiple ways. The simplest invovles the use of lists (shown above):"
   ]
  },
  {
   "cell_type": "code",
   "execution_count": null,
   "id": "05317312",
   "metadata": {},
   "outputs": [],
   "source": [
    "my_arr = np.array([\n",
    "    [True, False, False],\n",
    "    [False, True, False]\n",
    "])\n",
    "my_arr"
   ]
  },
  {
   "cell_type": "code",
   "execution_count": null,
   "id": "643496ef",
   "metadata": {},
   "outputs": [],
   "source": [
    "type(my_arr)"
   ]
  },
  {
   "cell_type": "markdown",
   "id": "13ee0484",
   "metadata": {},
   "source": [
    "Arrays can also be created using the `arange()` method. This method creates a sequential `array` given the max element specified:"
   ]
  },
  {
   "cell_type": "code",
   "execution_count": null,
   "id": "2e02a26c",
   "metadata": {},
   "outputs": [],
   "source": [
    "# Create a 1d integer array from 0-10\n",
    "my_arr = np.arange(10)\n",
    "my_arr"
   ]
  },
  {
   "cell_type": "code",
   "execution_count": null,
   "id": "b98d98e7",
   "metadata": {},
   "outputs": [],
   "source": [
    "# Create a 1d integer array from 10-20\n",
    "my_arr = np.arange(10, 20)\n",
    "my_arr"
   ]
  },
  {
   "cell_type": "code",
   "execution_count": null,
   "id": "708f3760",
   "metadata": {},
   "outputs": [],
   "source": [
    "# Create a 1d integer array from 10-100 in steps of 5\n",
    "my_arr = np.arange(10, 100, 5)\n",
    "my_arr"
   ]
  },
  {
   "cell_type": "code",
   "execution_count": null,
   "id": "231db9ba",
   "metadata": {},
   "outputs": [],
   "source": [
    "# Create a 1d float array from 0.0-10.0\n",
    "my_arr = np.arange(10.0)\n",
    "my_arr"
   ]
  },
  {
   "cell_type": "markdown",
   "id": "038f59f8",
   "metadata": {},
   "source": [
    "#### Shape and dimensions\n",
    "\n",
    "`numpy` arrays have a number of dimensions and a shape. Note that these are properties, not methods. They are accessed using this pattern: `<object>.<property_name>` as follows:"
   ]
  },
  {
   "cell_type": "code",
   "execution_count": null,
   "id": "8110c782",
   "metadata": {},
   "outputs": [],
   "source": [
    "# Construct 2d array\n",
    "my_arr = np.array([\n",
    "    [True, False, False],\n",
    "    [False, True, False]\n",
    "])"
   ]
  },
  {
   "cell_type": "code",
   "execution_count": null,
   "id": "3d591455",
   "metadata": {},
   "outputs": [],
   "source": [
    "# Get number of dimensions property\n",
    "my_arr.ndim"
   ]
  },
  {
   "cell_type": "markdown",
   "id": "12341374",
   "metadata": {},
   "source": [
    "**Note**: The `shape` of any `array` follows the format:\n",
    "\n",
    "```python\n",
    "(dimN, dimN-1, ..., dim3, dim2, dim1)\n",
    "```\n",
    "\n",
    "Where `dim1` is the innermost brackets (dimension \\#1), `dim2` is the next innermost, ... and `dimN` is the outermost brackets.\n",
    "\n",
    "Where the value for each `dim` corresponds to the number of elements in that dimension. For example:"
   ]
  },
  {
   "cell_type": "code",
   "execution_count": null,
   "id": "63f04958",
   "metadata": {},
   "outputs": [],
   "source": [
    "# Get the shape property (number of rows (ie dim 2), number of columns (ie dim 1))\n",
    "my_arr.shape"
   ]
  },
  {
   "cell_type": "markdown",
   "id": "38d69d48",
   "metadata": {},
   "source": [
    "Let's examine this in action with a 3D array:"
   ]
  },
  {
   "cell_type": "code",
   "execution_count": null,
   "id": "299a1009",
   "metadata": {},
   "outputs": [],
   "source": [
    "# Construct a 3d array\n",
    "arr_3d = np.array([\n",
    "    [\n",
    "        [1, 2, 3],\n",
    "        [4, 5, 6]\n",
    "    ],\n",
    "    [\n",
    "        [7, 8, 9],\n",
    "        [10, 11, 12]\n",
    "    ]\n",
    "])\n",
    "\n",
    "# Get the shape (number of 2d arrays (aka \"stacks\"), number of rows, number of columns)\n",
    "arr_3d.shape"
   ]
  },
  {
   "cell_type": "markdown",
   "id": "1ec20a86",
   "metadata": {},
   "source": [
    "Finally, the shape of an array can be altered using the `reshape()` method. This is particularly useful for quickly constructing arrays of a desired shape:"
   ]
  },
  {
   "cell_type": "code",
   "execution_count": null,
   "id": "17474d7d",
   "metadata": {},
   "outputs": [],
   "source": [
    "my_arr = np.arange(15)\n",
    "my_arr = my_arr.reshape((5, 3))  # Note that this does NOT overwrite the my_arr object until you re-assign using '='"
   ]
  },
  {
   "cell_type": "code",
   "execution_count": null,
   "id": "92116fa0",
   "metadata": {},
   "outputs": [],
   "source": [
    "my_arr"
   ]
  },
  {
   "cell_type": "markdown",
   "id": "8962b07d",
   "metadata": {},
   "source": [
    "The above can be simplified in 1 line of code:"
   ]
  },
  {
   "cell_type": "code",
   "execution_count": null,
   "id": "938d4e6b",
   "metadata": {},
   "outputs": [],
   "source": [
    "my_arr = np.arange(15).reshape((5, 3))\n",
    "my_arr"
   ]
  },
  {
   "cell_type": "markdown",
   "id": "4f00cefc",
   "metadata": {},
   "source": [
    "**Challenge problem:** Create an array with all the even numbers from 2 through 13 in 2D format with two rows and three columns."
   ]
  },
  {
   "cell_type": "markdown",
   "id": "73aa7989",
   "metadata": {},
   "source": [
    "#### Accessing elements\n",
    "\n",
    "Elements can be accessed using several approaches:\n",
    "\n",
    "1. Numerical\n",
    "2. Logical\n",
    "\n",
    "For the **Numerical** approach, numerical indices are utilized using the pattern suited to their shape following this form:\n",
    "\n",
    "```python\n",
    "my_array[dimN, dimN-1, ..., dim3, dim2, dim1]\n",
    "```\n",
    "\n",
    "In which the value for `dim*` is the index of the element within that dimension of the dataset you want to access. For example:"
   ]
  },
  {
   "cell_type": "code",
   "execution_count": null,
   "id": "070ef544",
   "metadata": {},
   "outputs": [],
   "source": [
    "# For a 1D array, similar to list\n",
    "my_arr = np.array([3, 8, 1, 5])\n",
    "my_arr[1]  # Get the 2nd element of the first (and only) dimension"
   ]
  },
  {
   "cell_type": "markdown",
   "id": "fa48618a",
   "metadata": {},
   "source": [
    "Now in a 2D array with `dim2` (rows) and `dim1` (cols):"
   ]
  },
  {
   "cell_type": "code",
   "execution_count": null,
   "id": "5ab90f62",
   "metadata": {},
   "outputs": [],
   "source": [
    "# For a 2D array, the pattern is array[dim2_index, dim1_index]\n",
    "my_arr = np.array([\n",
    "    [5, 7, 4, 6],\n",
    "    [2, 1, 9, 8]\n",
    "])\n",
    "my_arr[0, 1]  # First element in dim 2 (row 0) and second element in dim 1 (column 2)"
   ]
  },
  {
   "cell_type": "markdown",
   "id": "500f03de",
   "metadata": {},
   "source": [
    "Now in a 3D array with `dim3` (stacks), `dim2` (rows), and `dim1` (cols):"
   ]
  },
  {
   "cell_type": "code",
   "execution_count": null,
   "id": "759d0ae8",
   "metadata": {},
   "outputs": [],
   "source": [
    "# For an n-dimensional array, the pattern is the same: array[dimN_index, dimN-1_index, dimN-2_index..., dim1_index]\n",
    "my_arr = np.arange(125).reshape((5, 5, 5))\n",
    "print(my_arr)"
   ]
  },
  {
   "cell_type": "code",
   "execution_count": null,
   "id": "56f01f02",
   "metadata": {},
   "outputs": [],
   "source": [
    "my_arr[2, 3, 1]  # 3rd element in dim 1 (matrix 3), 4th element in dim 2 (row 4), 2nd element in dim 3 (column 2)"
   ]
  },
  {
   "cell_type": "markdown",
   "id": "3eeb52ee",
   "metadata": {},
   "source": [
    "We can also use slice notation in order to get elements within a dimension! For example, if we wanted to get the 2nd column from every row in the first stack of `my_arr`:"
   ]
  },
  {
   "cell_type": "code",
   "execution_count": null,
   "id": "abf0d524",
   "metadata": {},
   "outputs": [],
   "source": [
    "my_arr[0, :, 1]"
   ]
  },
  {
   "cell_type": "markdown",
   "id": "ceb60837",
   "metadata": {},
   "source": [
    "**Challenge problem**: Write a statement which accesses every other column, from the last two rows, of the last stack in `my_arr`."
   ]
  },
  {
   "cell_type": "markdown",
   "id": "287898c0",
   "metadata": {},
   "source": [
    "For the **Logical** approach to accessing data, we can use a boolean array to extract the element(s) of interest:"
   ]
  },
  {
   "cell_type": "code",
   "execution_count": null,
   "id": "aefcc306",
   "metadata": {},
   "outputs": [],
   "source": [
    "num_arr = np.array([1, 2, 3])\n",
    "bool_arr = np.array([False, False, True])\n",
    "num_arr[bool_arr]  #  We access the element of num_arr for which bool_arr is True"
   ]
  },
  {
   "cell_type": "markdown",
   "id": "b355c75a",
   "metadata": {},
   "source": [
    "This approach is extremely powerful when you can use logical operations to create a boolean array:"
   ]
  },
  {
   "cell_type": "code",
   "execution_count": null,
   "id": "878ce2e2",
   "metadata": {},
   "outputs": [],
   "source": [
    "# Create a 2D matrix\n",
    "dataset = np.array([\n",
    "    [1, 2, 3, 4, 5],\n",
    "    [6, 7, 8, 9, 10]\n",
    "])\n",
    "print(dataset)"
   ]
  },
  {
   "cell_type": "code",
   "execution_count": null,
   "id": "e7e3f0c9",
   "metadata": {},
   "outputs": [],
   "source": [
    "# Create a boolean matrix for this dataset to test where values are greater than 3\n",
    "bools = dataset > 3\n",
    "print(bools)"
   ]
  },
  {
   "cell_type": "code",
   "execution_count": null,
   "id": "d59e12ef",
   "metadata": {},
   "outputs": [],
   "source": [
    "# Extract the value(s) which satisfy this logical operation\n",
    "dataset[bools]"
   ]
  },
  {
   "cell_type": "markdown",
   "id": "c6cc97f3",
   "metadata": {},
   "source": [
    "We can also use `np.equal()` to construct a boolean array based on equivalence with a value:"
   ]
  },
  {
   "cell_type": "code",
   "execution_count": null,
   "id": "3bf20a35",
   "metadata": {},
   "outputs": [],
   "source": [
    "# Create a boolean matrix for this dataset to test where values are equal to 5 using np.equals()\n",
    "bools = np.equal(dataset, 5)\n",
    "print(bools)"
   ]
  },
  {
   "cell_type": "code",
   "execution_count": null,
   "id": "f0b9b1d3",
   "metadata": {},
   "outputs": [],
   "source": [
    "# Extract the value(s) which satisfy this logical operation\n",
    "dataset[bools]"
   ]
  },
  {
   "cell_type": "code",
   "execution_count": null,
   "id": "936f80a3",
   "metadata": {},
   "outputs": [],
   "source": [
    "# Create a boolean matrix for this dataset to test where values are > 8 or < 3\n",
    "bools = np.logical_or(dataset > 8, dataset < 3)\n",
    "print(bools)\n",
    "# Subset the data using these booleans\n",
    "dataset[bools]"
   ]
  },
  {
   "cell_type": "markdown",
   "id": "8c53e524",
   "metadata": {},
   "source": [
    "Finally, we can use the **where** approach that is a hybrid of these two methods. `where()` returns the numerical indices in which a logical condition was met. For example:"
   ]
  },
  {
   "cell_type": "code",
   "execution_count": null,
   "id": "0b00ff57",
   "metadata": {},
   "outputs": [],
   "source": [
    "dataset"
   ]
  },
  {
   "cell_type": "code",
   "execution_count": null,
   "id": "dd5e4651",
   "metadata": {},
   "outputs": [],
   "source": [
    "# Find the numerical indices for values in the dataset > 6\n",
    "indices = np.where(dataset > 6)\n",
    "print(indices)\n",
    "# Subset the data using these indices\n",
    "dataset[indices]"
   ]
  },
  {
   "cell_type": "markdown",
   "id": "0b0ee513",
   "metadata": {},
   "source": [
    "#### Setting elements\n",
    "\n",
    "Just as you can access elements of an array, you can also set them. This can be done with integer and logical indexing. \n",
    "\n",
    "Here is an example with simple integer indexing:"
   ]
  },
  {
   "cell_type": "code",
   "execution_count": null,
   "id": "a991b6ac",
   "metadata": {},
   "outputs": [],
   "source": [
    "# Create a 2D matrix\n",
    "dataset = np.array([\n",
    "    [1, 2, 3, 4, 5],\n",
    "    [6, 7, 8, 9, 10]\n",
    "])\n",
    "print(dataset)"
   ]
  },
  {
   "cell_type": "code",
   "execution_count": null,
   "id": "179451c0",
   "metadata": {},
   "outputs": [],
   "source": [
    "# Change row 2, column 5 to the value 100\n",
    "dataset[1, 4] = 100\n",
    "dataset"
   ]
  },
  {
   "cell_type": "markdown",
   "id": "3afb71ef",
   "metadata": {},
   "source": [
    "You can also use logical indexing to set array values:"
   ]
  },
  {
   "cell_type": "code",
   "execution_count": null,
   "id": "b94ab152",
   "metadata": {},
   "outputs": [],
   "source": [
    "# Set every value > 3 to 0\n",
    "dataset = np.array([\n",
    "    [1, 2, 3, 4, 5],\n",
    "    [6, 7, 8, 9, 10]\n",
    "])\n",
    "dataset[dataset > 3] = 0 \n",
    "dataset"
   ]
  },
  {
   "cell_type": "markdown",
   "id": "51b0158e",
   "metadata": {},
   "source": [
    "And, finally, you can use the `where()` method:"
   ]
  },
  {
   "cell_type": "code",
   "execution_count": null,
   "id": "670f37bd",
   "metadata": {},
   "outputs": [],
   "source": [
    "# Set all value < 7 to -1\n",
    "dataset = np.array([\n",
    "    [1, 2, 3, 4, 5],\n",
    "    [6, 7, 8, 9, 10]\n",
    "])\n",
    "dataset[np.where(dataset < 7)] = -1\n",
    "dataset"
   ]
  },
  {
   "cell_type": "markdown",
   "id": "f1dae061",
   "metadata": {},
   "source": [
    "#### Any / All\n",
    "\n",
    "`any()` and `all()` are two methods which determine whether an array satisfies a logical condition. `any()` is `True` if any element in the array satisfies the condition. `all()` is `True` if all elements of the array satisfy the condition. Examples:"
   ]
  },
  {
   "cell_type": "code",
   "execution_count": null,
   "id": "5f9c430e",
   "metadata": {},
   "outputs": [],
   "source": [
    "dataset = np.array([\n",
    "    [1, 2, 3, 4, 5],\n",
    "    [6, 7, 8, 9, 10]\n",
    "])"
   ]
  },
  {
   "cell_type": "code",
   "execution_count": null,
   "id": "45f6efbb",
   "metadata": {},
   "outputs": [],
   "source": [
    "# Any values equal to 0?\n",
    "np.any(dataset == 0)"
   ]
  },
  {
   "cell_type": "code",
   "execution_count": null,
   "id": "6fc339db",
   "metadata": {},
   "outputs": [],
   "source": [
    "# All values NOT equal to 0?\n",
    "np.all(dataset != 0)"
   ]
  },
  {
   "cell_type": "markdown",
   "id": "ef5a33cf",
   "metadata": {},
   "source": [
    "#### Mathematical methods\n",
    "\n",
    "Arrays have a large number of built-in mathematic methods. Examples include `sum()` and `mean()`. They can also be used for multi-dimensional algebraic operations, such as matrix multiplication and dot products. Here are a small number of examples:"
   ]
  },
  {
   "cell_type": "code",
   "execution_count": null,
   "id": "e6853d0c",
   "metadata": {},
   "outputs": [],
   "source": [
    "my_data = np.arange(9).reshape((3,3))\n",
    "my_data"
   ]
  },
  {
   "cell_type": "code",
   "execution_count": null,
   "id": "566a37fb",
   "metadata": {},
   "outputs": [],
   "source": [
    "# Multiplication by scalar\n",
    "my_data * 3"
   ]
  },
  {
   "cell_type": "code",
   "execution_count": null,
   "id": "3a11c5c7",
   "metadata": {},
   "outputs": [],
   "source": [
    "# Addition by vector\n",
    "my_vector = np.array([5, 10, 20])\n",
    "my_data + my_vector"
   ]
  },
  {
   "cell_type": "code",
   "execution_count": null,
   "id": "ea004b86",
   "metadata": {},
   "outputs": [],
   "source": [
    "# Sum of values\n",
    "my_data.sum()"
   ]
  },
  {
   "cell_type": "code",
   "execution_count": null,
   "id": "a68da23f",
   "metadata": {},
   "outputs": [],
   "source": [
    "# Mean of values within dimension 2 (rows) -- \"axis\" specificies the dimension index\n",
    "my_data.mean(axis=1)"
   ]
  },
  {
   "cell_type": "code",
   "execution_count": null,
   "id": "09f3bdd2",
   "metadata": {},
   "outputs": [],
   "source": [
    "# Max values within dimension 1 (columns)\n",
    "my_data.max(axis=0)"
   ]
  },
  {
   "cell_type": "code",
   "execution_count": null,
   "id": "1600b82c",
   "metadata": {},
   "outputs": [],
   "source": [
    "# Transposition\n",
    "my_data.transpose()"
   ]
  },
  {
   "cell_type": "code",
   "execution_count": null,
   "id": "530170ab",
   "metadata": {},
   "outputs": [],
   "source": [
    "# Make new dataset\n",
    "my_data2 = np.arange(100, 109).reshape((3,3))  # 3x3 matrix of 100:109\n",
    "\n",
    "# Compute dot product\n",
    "dot_prod = np.dot(my_data, my_data2)\n",
    "dot_prod"
   ]
  },
  {
   "cell_type": "code",
   "execution_count": null,
   "id": "7b46041a",
   "metadata": {},
   "outputs": [],
   "source": [
    "# Compute the pearson correlation of two 1d arrays\n",
    "arr1 = np.array([1, 5, 6, 6, 7, 10])\n",
    "arr2 = np.array([3, 3, 4, 3, 6, 9])\n",
    "np.corrcoef(arr1, arr2)  # Correlation is ~.809"
   ]
  },
  {
   "cell_type": "markdown",
   "id": "156ab915",
   "metadata": {},
   "source": [
    "**Random**: Randomness is very useful in advanced mathematics and statistics. `numpy` has builtin methods for generating randomnes. For example, we can easily pick a random integer between 1 and 100:"
   ]
  },
  {
   "cell_type": "code",
   "execution_count": null,
   "id": "bd4bf59d",
   "metadata": {},
   "outputs": [],
   "source": [
    "np.random.randint(low=1, high = 100)"
   ]
  },
  {
   "cell_type": "markdown",
   "id": "e10fb6f2",
   "metadata": {},
   "source": [
    "We can also generate a random integer array based based on a supplied size parameter:"
   ]
  },
  {
   "cell_type": "code",
   "execution_count": null,
   "id": "4fad8815",
   "metadata": {},
   "outputs": [],
   "source": [
    "np.random.randint(low=1, high=100, size=(5, 3))"
   ]
  },
  {
   "cell_type": "markdown",
   "id": "79fa0c60",
   "metadata": {},
   "source": [
    "We can also generate an array of random floats between 0 and 1 by supplying a shape:"
   ]
  },
  {
   "cell_type": "code",
   "execution_count": null,
   "id": "b0fc306c",
   "metadata": {},
   "outputs": [],
   "source": [
    "np.random.rand(4, 4)"
   ]
  },
  {
   "cell_type": "markdown",
   "id": "855b0eb9",
   "metadata": {},
   "source": [
    "## Pandas Series and DataFrame\n",
    "\n",
    "`pandas` is arguably the most important library for data science in python. It provides both the `Series` and `DataFrame` objects, along with a large number of methods for working with them. Under the hood, it uses `numpy` so many `array` methods work with `pandas` objects. In this section, we will discuss the `Series` object and the `DataFrame` object, then introduce some core methods for working with them.\n",
    "\n",
    "### Pandas `Series`"
   ]
  },
  {
   "cell_type": "markdown",
   "id": "0111d1ea",
   "metadata": {},
   "source": [
    "Similar to the 1D array, a pandas `Series` is an array where every element can have a name. See this example:"
   ]
  },
  {
   "cell_type": "code",
   "execution_count": null,
   "id": "1eabf482",
   "metadata": {},
   "outputs": [],
   "source": [
    "!pip install pandas"
   ]
  },
  {
   "cell_type": "code",
   "execution_count": null,
   "id": "87ba327e",
   "metadata": {},
   "outputs": [],
   "source": [
    "import pandas as pd"
   ]
  },
  {
   "cell_type": "code",
   "execution_count": null,
   "id": "ffde400e",
   "metadata": {},
   "outputs": [],
   "source": [
    "my_data = pd.Series(data={\n",
    "    'one': 1,\n",
    "    'two': 2,\n",
    "    'three': 3\n",
    "})\n",
    "my_data"
   ]
  },
  {
   "cell_type": "markdown",
   "id": "e6bbc220",
   "metadata": {},
   "source": [
    "Similar to a dictionary, the values can be accessed using the names:"
   ]
  },
  {
   "cell_type": "code",
   "execution_count": null,
   "id": "3f4ba4f4",
   "metadata": {},
   "outputs": [],
   "source": [
    "my_data['two']"
   ]
  },
  {
   "cell_type": "markdown",
   "id": "dfa9c82a",
   "metadata": {},
   "source": [
    "And similar to an `array`, the values can also be accessed using numbers and booleans:"
   ]
  },
  {
   "cell_type": "code",
   "execution_count": null,
   "id": "8c28465e",
   "metadata": {},
   "outputs": [],
   "source": [
    "# Access element 1\n",
    "my_data[0]"
   ]
  },
  {
   "cell_type": "code",
   "execution_count": null,
   "id": "8e4cce0a",
   "metadata": {},
   "outputs": [],
   "source": [
    "# Access the element(s) which equals 3\n",
    "my_data[my_data == 3]"
   ]
  },
  {
   "cell_type": "markdown",
   "id": "d8aee21e",
   "metadata": {},
   "source": [
    "### Pandas `DataFrame`\n",
    "\n",
    "The `DataFrame` is an extremely powerful datatype in python, and it is used ubiquitously throughout pythonic data science. A `DataFrame` is always a 2-dimensional `array` which contains named columns and rows. "
   ]
  },
  {
   "cell_type": "code",
   "execution_count": null,
   "id": "423f52f6",
   "metadata": {},
   "outputs": [],
   "source": [
    "my_df = pd.DataFrame(data={\n",
    "    'col_one': range(1, 5),\n",
    "    'col_two': range(11, 15),\n",
    "    'col_three': range(21, 25)\n",
    "}, index = [\n",
    "    'row_one', 'row_two', 'row_three', 'row_four'\n",
    "])\n",
    "my_df"
   ]
  },
  {
   "cell_type": "markdown",
   "id": "9ffbe538",
   "metadata": {},
   "source": [
    "Methods for `DataFrame` objects are numerous and can be found [here](https://pandas.pydata.org/pandas-docs/stable/reference/frame.html). In the next module, we will discuss the following:\n",
    "\n",
    "1. Difference between this and numpy array\n",
    "2. Indexing / naming\n",
    "3. Accessing data (iloc vs loc vs []) / setting data\n",
    "4. Basic plotting\n",
    "5. Reading / Writing to file"
   ]
  }
 ],
 "metadata": {
  "kernelspec": {
   "display_name": "Python 3",
   "language": "python",
   "name": "python3"
  },
  "language_info": {
   "codemirror_mode": {
    "name": "ipython",
    "version": 3
   },
   "file_extension": ".py",
   "mimetype": "text/x-python",
   "name": "python",
   "nbconvert_exporter": "python",
   "pygments_lexer": "ipython3",
   "version": "3.8.8"
  }
 },
 "nbformat": 4,
 "nbformat_minor": 5
}
