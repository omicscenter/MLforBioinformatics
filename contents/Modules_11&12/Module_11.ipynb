{
 "cells": [
  {
   "cell_type": "markdown",
   "id": "1ace58e3-d3d7-4743-a14c-21a4f6e2aa21",
   "metadata": {},
   "source": [
    "# Module 11 - Image Proccessing"
   ]
  },
  {
   "cell_type": "markdown",
   "id": "f461dda1",
   "metadata": {},
   "source": [
    "Today's data set comes from [kaggle](https://www.kaggle.com/c/data-science-bowl-2018/overview) as part of the 2018 Data Science Bowl. The task is to spot nuclei in under varied conditions. The dataset contains a large number of segmented nuclei images. The images were acquired under a variety of conditions and vary in the cell type, magnification, and imaging modality (brightfield vs. fluorescence).\n",
    "\n",
    "Each image is represented by an associated ImageId. Files belonging to an image are contained in a folder with this ImageId. Within this folder are two subfolders:\n",
    "\n",
    "+ images contains the image file.\n",
    "+ masks contains the segmented masks of each nucleus. This folder is only included in the training set. Each mask contains one nucleus. Masks are not allowed to overlap (no pixel belongs to two masks).\n",
    "\n",
    "We will be working only with the Competition's stage 1 labeled training data for today."
   ]
  },
  {
   "cell_type": "markdown",
   "id": "7103cd06",
   "metadata": {},
   "source": [
    "## Setup\n",
    "Let's get all the requirements sorted before we move on to the excercise. Notice, today we will be using the datetime package to deal with timestamps.  "
   ]
  },
  {
   "cell_type": "code",
   "execution_count": null,
   "id": "4a4fec48",
   "metadata": {},
   "outputs": [],
   "source": [
    "# Requirements\n",
    "!pip install --upgrade ipykernel\n",
    "!pip install pandas\n",
    "!pip install numpy\n",
    "!pip install matplotlib\n",
    "!pip install tqdm #for progress bar\n",
    "!pip install scikit-image\n",
    "!pip install scipy\n",
    "\n",
    "\n",
    "# Globals\n",
    "seed = 1017\n",
    "\n",
    "#imports\n",
    "import os\n",
    "import random\n",
    "import pandas as pd\n",
    "import numpy as np\n",
    "import matplotlib.pyplot as plt\n",
    "from scipy import ndimage as nd\n",
    "from tqdm import tqdm\n",
    "from skimage import img_as_float, img_as_ubyte\n",
    "from skimage.io import imread, imshow\n",
    "from skimage.transform import resize\n",
    "from skimage.restoration import denoise_nl_means, estimate_sigma\n",
    "from skimage.exposure import equalize_adapthist\n",
    "from skimage.morphology import disk, diameter_closing, diameter_opening\n",
    "from skimage.segmentation import clear_border\n",
    "from skimage.color import rgb2gray\n",
    "from skimage.feature import canny\n",
    "\n",
    "#magic\n",
    "%matplotlib inline"
   ]
  },
  {
   "cell_type": "markdown",
   "id": "790bd5b1-61c0-435a-b1ae-3047d3519bae",
   "metadata": {},
   "source": [
    "## Loading the data\n",
    "The data for today can be found in the `data` folder distributed along with this notebook. You will have to unzip it manually."
   ]
  },
  {
   "cell_type": "code",
   "execution_count": null,
   "id": "4ca00c56",
   "metadata": {},
   "outputs": [],
   "source": [
    "#set path to training data\n",
    "TRAIN_PATH=\"data/stage1_train/\"\n",
    "#get sample IDs\n",
    "train_ids=next(os.walk(TRAIN_PATH))[1]\n",
    "print(str(len(train_ids)) + \" Samples found!\")"
   ]
  },
  {
   "cell_type": "markdown",
   "id": "bcd56cc1",
   "metadata": {},
   "source": [
    "## Formatting\n",
    "Let's resize the images to something managable so we can speed up calculations."
   ]
  },
  {
   "cell_type": "code",
   "execution_count": null,
   "id": "e49587a4",
   "metadata": {},
   "outputs": [],
   "source": [
    "#Declare image shape\n",
    "IMG_HEIGHT=128\n",
    "IMG_WIDTH=128\n",
    "IMG_CHANNELS=3"
   ]
  },
  {
   "cell_type": "code",
   "execution_count": null,
   "id": "3bf9a687",
   "metadata": {},
   "outputs": [],
   "source": [
    "#resize images to speedup calculations\n",
    "X_train = np.zeros((len(train_ids), IMG_HEIGHT, IMG_WIDTH, IMG_CHANNELS), dtype=np.uint8)\n",
    "Y_train = np.zeros((len(train_ids), IMG_HEIGHT, IMG_WIDTH, 1), dtype=np.bool)\n",
    "\n",
    "print('Resizing training images and masks')\n",
    "for n, id_ in tqdm(enumerate(train_ids), total=len(train_ids)):   \n",
    "    path = TRAIN_PATH + id_\n",
    "    img = imread(path + '/images/' + id_ + '.png')[:,:,:IMG_CHANNELS]  \n",
    "    img = resize(img, (IMG_HEIGHT, IMG_WIDTH), mode='constant', preserve_range=True)\n",
    "    X_train[n] = img  #Fill empty X_train with values from img\n",
    "    mask = np.zeros((IMG_HEIGHT, IMG_WIDTH, 1), dtype=np.bool)\n",
    "    for mask_file in next(os.walk(path + '/masks/'))[2]:\n",
    "        mask_ = imread(path + '/masks/' + mask_file)\n",
    "        mask_ = np.expand_dims(resize(mask_, (IMG_HEIGHT, IMG_WIDTH), mode='constant',  \n",
    "                                      preserve_range=True), axis=-1)\n",
    "        mask = np.maximum(mask, mask_)  \n",
    "            \n",
    "    Y_train[n] = mask  "
   ]
  },
  {
   "cell_type": "code",
   "execution_count": null,
   "id": "bd08bcba",
   "metadata": {},
   "outputs": [],
   "source": [
    "#Have a look at a random image\n",
    "image_x=random.randint(0, len(train_ids))\n",
    "print(X_train.shape)\n",
    "imshow(X_train[image_x])\n",
    "plt.show()\n"
   ]
  },
  {
   "cell_type": "code",
   "execution_count": null,
   "id": "9bd82f34",
   "metadata": {},
   "outputs": [],
   "source": [
    "print(Y_train.shape)\n",
    "imshow(img_as_ubyte(Y_train[image_x, :, :, 0]))\n",
    "plt.show()"
   ]
  },
  {
   "cell_type": "markdown",
   "id": "2ecb3b54",
   "metadata": {},
   "source": [
    "## Denoising\n",
    "We will use a non-local means filter to denoise the images."
   ]
  },
  {
   "cell_type": "code",
   "execution_count": null,
   "id": "2c975a91",
   "metadata": {},
   "outputs": [],
   "source": [
    "#apply non-local filter\n",
    "patch_kw = dict(patch_size=5, #patch size\n",
    "                patch_distance=6, #search area\n",
    "                multichannel=True)\n",
    "for ith in range(len(train_ids)):\n",
    "    img = X_train[ith]\n",
    "    sigma_est = np.mean(estimate_sigma(img, multichannel=True))\n",
    "    X_train[ith] = denoise_nl_means(img, h=1.15 * sigma_est, fast_mode=True, **patch_kw)"
   ]
  },
  {
   "cell_type": "code",
   "execution_count": null,
   "id": "c0aa6bc2",
   "metadata": {},
   "outputs": [],
   "source": [
    "#replot the random image\n",
    "print(X_train.shape)\n",
    "imshow(X_train[image_x])\n",
    "plt.show()"
   ]
  },
  {
   "cell_type": "code",
   "execution_count": null,
   "id": "3d64f807",
   "metadata": {},
   "outputs": [],
   "source": [
    "#apply adaptive histogram equalization\n",
    "#for ith in range(len(train_ids)):\n",
    "#    X_train[ith] = equalize_adapthist(X_train[ith], kernel_size=1, clip_limit=0.01, nbins=100)\n"
   ]
  },
  {
   "cell_type": "code",
   "execution_count": null,
   "id": "662464ee",
   "metadata": {},
   "outputs": [],
   "source": [
    "#replot the random image\n",
    "print(X_train.shape)\n",
    "imshow(img_as_float(X_train[image_x]))\n",
    "plt.show()"
   ]
  },
  {
   "cell_type": "code",
   "execution_count": null,
   "id": "01cdf695",
   "metadata": {},
   "outputs": [],
   "source": [
    "#clean masked regions with open/close ops\n",
    "\n",
    "#Dilation enlarges bright regions and shrinks dark regions.\n",
    "#Erosion shrinks bright regions and enlarges dark regions.\n",
    "\n",
    "#declare operation size\n",
    "opsize=3\n",
    "\n",
    "for ith in range(len(train_ids)):\n",
    "    mask = Y_train[ith, :, :, 0]\n",
    "    \n",
    "    #Closing on an image is defined as a dilation followed by an erosion.\n",
    "    #Closing can remove small dark spots (i.e. “pepper”) and connect small bright cracks.\n",
    "    #This tends to “close” up (dark) gaps between (bright) features.\n",
    "    mask = nd.binary_closing(mask, disk(opsize//2))\n",
    "\n",
    "    #diamerter closing will remove dark spots but leave dark cracks\n",
    "    #mask = diameter_closing(mask, opsize, connectivity=2)\n",
    "\n",
    "    \n",
    "    #Opening on an image is defined as an erosion followed by a dilation.\n",
    "    #Opening can remove small bright spots (i.e. “salt”) and connect small dark cracks.\n",
    "    #This tends to “open” up (dark) gaps between (bright) features\n",
    "    mask = nd.binary_opening(mask, disk(opsize//2))\n",
    " \n",
    "    #diameter opening will remove bright spots but leave bright lines\n",
    "    #mask = diameter_opening(mask, opsize, connectivity=2)\n",
    "\n",
    "\n",
    "    #fill in enclosed regions\n",
    "    mask = nd.binary_fill_holes(mask)\n",
    "\n",
    "    #remove segments connected to image border\n",
    "    mask = clear_border(mask)\n",
    "    \n",
    "    Y_train[ith, :, :, 0] = mask\n"
   ]
  },
  {
   "cell_type": "code",
   "execution_count": null,
   "id": "68570815",
   "metadata": {
    "scrolled": true
   },
   "outputs": [],
   "source": [
    "print(Y_train.shape)\n",
    "imshow(img_as_ubyte(Y_train[image_x, :, :, 0]))\n",
    "plt.show()"
   ]
  },
  {
   "cell_type": "markdown",
   "id": "9b0d4b78",
   "metadata": {},
   "source": [
    "## Feature detection"
   ]
  },
  {
   "cell_type": "code",
   "execution_count": null,
   "id": "c23388ec",
   "metadata": {},
   "outputs": [],
   "source": [
    "#create a dummy channel\n",
    "Z = np.zeros(Y_train.shape)\n",
    "\n",
    "#add two channels for img intensity and canny edges\n",
    "X_train = np.concatenate((X_train, Z), axis = 3)\n",
    "X_train = np.concatenate((X_train, Z), axis = 3)\n",
    "\n",
    "print(X_train.shape)"
   ]
  },
  {
   "cell_type": "code",
   "execution_count": null,
   "id": "5089aca0",
   "metadata": {},
   "outputs": [],
   "source": [
    "for ith in range(len(train_ids)):\n",
    "    #get grayscale image\n",
    "    img_gray = rgb2gray(X_train[ith, :, :, 0:3])\n",
    "    X_train[ith, :, :, 3] #add new feature\n",
    "    #caluculate canny edges\n",
    "    edges = canny(image=img_gray, sigma=2)\n",
    "    X_train[ith, :, :, 4]=edges #add new feature\n"
   ]
  },
  {
   "cell_type": "code",
   "execution_count": null,
   "id": "5f106a5e",
   "metadata": {},
   "outputs": [],
   "source": [
    "#replot the random image graysacle\n",
    "print(X_train.shape)\n",
    "imshow(X_train[image_x, :, :, 3])\n",
    "plt.show()\n",
    "\n",
    "#replot the random image canny edges\n",
    "print(X_train.shape)\n",
    "imshow(X_train[image_x, :, :, 4])\n",
    "plt.show()"
   ]
  },
  {
   "cell_type": "code",
   "execution_count": null,
   "id": "d8b746ec",
   "metadata": {},
   "outputs": [],
   "source": []
  }
 ],
 "metadata": {
  "kernelspec": {
   "display_name": "Python 3 (ipykernel)",
   "language": "python",
   "name": "python3"
  },
  "language_info": {
   "codemirror_mode": {
    "name": "ipython",
    "version": 3
   },
   "file_extension": ".py",
   "mimetype": "text/x-python",
   "name": "python",
   "nbconvert_exporter": "python",
   "pygments_lexer": "ipython3",
   "version": "3.9.5"
  }
 },
 "nbformat": 4,
 "nbformat_minor": 5
}
